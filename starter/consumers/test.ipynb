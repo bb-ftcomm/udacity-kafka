{
 "cells": [
  {
   "cell_type": "code",
   "execution_count": 12,
   "metadata": {},
   "outputs": [],
   "source": [
    "import faust\n",
    "from dataclasses import asdict, dataclass"
   ]
  },
  {
   "cell_type": "code",
   "execution_count": 13,
   "metadata": {},
   "outputs": [],
   "source": [
    "# Faust will ingest records from Kafka in this format\n",
    "@dataclass\n",
    "class Station(faust.Record):\n",
    "    stop_id: int\n",
    "    direction_id: str\n",
    "    stop_name: str\n",
    "    station_name: str\n",
    "    station_descriptive_name: str\n",
    "    station_id: int\n",
    "    order: int\n",
    "    red: bool\n",
    "    blue: bool\n",
    "    green: bool"
   ]
  },
  {
   "cell_type": "code",
   "execution_count": 14,
   "metadata": {},
   "outputs": [],
   "source": [
    "# Faust will produce records to Kafka in this format\n",
    "@dataclass\n",
    "class TransformedStation(faust.Record):\n",
    "    station_id: int\n",
    "    station_name: str\n",
    "    order: int\n",
    "    line: str\n"
   ]
  },
  {
   "cell_type": "code",
   "execution_count": 30,
   "metadata": {},
   "outputs": [],
   "source": [
    "app = faust.App(\n",
    "    \"stations-stream\", broker=\"kafka://localhost:9092\", store=\"memory://\"\n",
    ")"
   ]
  },
  {
   "cell_type": "code",
   "execution_count": 31,
   "metadata": {},
   "outputs": [],
   "source": [
    "# Define the input Kafka Topic. Hint: What topic did Kafka Connect output to?\n",
    "stations_topic = app.topic(\"stations\", value_type=Station)\n"
   ]
  },
  {
   "cell_type": "code",
   "execution_count": 32,
   "metadata": {},
   "outputs": [],
   "source": [
    "# Define the output Kafka Topic\n",
    "transformed_stations_topic = app.topic(\"transformed-stations\", partitions=1)\n"
   ]
  },
  {
   "cell_type": "code",
   "execution_count": 37,
   "metadata": {},
   "outputs": [],
   "source": [
    "@app.agent(value_type=Station)\n",
    "async def station(stations):\n",
    "    async for station in stations:\n",
    "        # process infinite stream of orders.\n",
    "        print(f'Station for {station.station_id}: {station.station_name}')"
   ]
  },
  {
   "cell_type": "code",
   "execution_count": 41,
   "metadata": {},
   "outputs": [
    {
     "ename": "TypeError",
     "evalue": "object Agent can't be used in 'await' expression",
     "output_type": "error",
     "traceback": [
      "\u001b[0;31m---------------------------------------------------------------------------\u001b[0m",
      "\u001b[0;31mTypeError\u001b[0m                                 Traceback (most recent call last)",
      "Cell \u001b[0;32mIn[41], line 1\u001b[0m\n\u001b[0;32m----> 1\u001b[0m \u001b[39mawait\u001b[39;00m station\n",
      "\u001b[0;31mTypeError\u001b[0m: object Agent can't be used in 'await' expression"
     ]
    }
   ],
   "source": []
  },
  {
   "cell_type": "code",
   "execution_count": null,
   "metadata": {},
   "outputs": [],
   "source": []
  }
 ],
 "metadata": {
  "kernelspec": {
   "display_name": "venv",
   "language": "python",
   "name": "python3"
  },
  "language_info": {
   "codemirror_mode": {
    "name": "ipython",
    "version": 3
   },
   "file_extension": ".py",
   "mimetype": "text/x-python",
   "name": "python",
   "nbconvert_exporter": "python",
   "pygments_lexer": "ipython3",
   "version": "3.11.3"
  },
  "orig_nbformat": 4
 },
 "nbformat": 4,
 "nbformat_minor": 2
}
