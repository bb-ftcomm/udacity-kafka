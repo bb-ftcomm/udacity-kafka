{
 "cells": [
  {
   "cell_type": "code",
   "execution_count": 2,
   "metadata": {},
   "outputs": [
    {
     "name": "stdout",
     "output_type": "stream",
     "text": [
      "{\n",
      "  \"previewLimit\": 50,\n",
      "  \"server\": \"localhost\",\n",
      "  \"port\": 5432,\n",
      "  \"driver\": \"PostgreSQL\",\n",
      "  \"name\": \"kafka-test\",\n",
      "  \"database\": \"cta\",\n",
      "  \"username\": \"cta_admin\",\n",
      "  \"password\": \"chicago\"\n",
      "}\n"
     ]
    }
   ],
   "source": [
    "import json\n",
    "\n",
    "\n",
    "config_settings = json.loads(open('../../.vscode/settings.json').read())[\"sqltools.connections\"][0]\n",
    "print(json.dumps(config_settings, indent=2))"
   ]
  },
  {
   "cell_type": "code",
   "execution_count": 3,
   "metadata": {},
   "outputs": [
    {
     "name": "stdout",
     "output_type": "stream",
     "text": [
      "localhost:5432\n"
     ]
    },
    {
     "data": {
      "text/plain": [
       "'http://localhost:9021/clusters/MkU3OEVBNTcwNTJENDM2Qg/management/connect/connect-default/connectors/browse'"
      ]
     },
     "execution_count": 3,
     "metadata": {},
     "output_type": "execute_result"
    }
   ],
   "source": [
    "print(config_settings[\"server\"] + \":\" + str(config_settings[\"port\"]))\n",
    "\n",
    "\"http://localhost:9021/clusters/MkU3OEVBNTcwNTJENDM2Qg/management/connect/connect-default/connectors/browse\" "
   ]
  },
  {
   "cell_type": "code",
   "execution_count": 4,
   "metadata": {},
   "outputs": [
    {
     "name": "stdout",
     "output_type": "stream",
     "text": [
      "b'{\"error_code\":404,\"message\":\"Connector stations not found\"}'\n"
     ]
    }
   ],
   "source": [
    "\"\"\"Configures a Kafka Connector for Postgres Station data\"\"\"\n",
    "import json\n",
    "import logging\n",
    "\n",
    "import requests\n",
    "import urllib3\n",
    "\n",
    "logger = logging.getLogger(__name__)\n",
    "\n",
    "\n",
    "KAFKA_CONNECT_URL = \"http://localhost:8083/connectors\"\n",
    "CONNECTOR_NAME = \"stations\"\n",
    "\n",
    "\n",
    "\"\"\"Starts and configures the Kafka Connect connector\"\"\"\n",
    "logging.debug(\"creating or updating kafka connect connector...\")\n",
    "\n",
    "resp = requests.get(f\"{KAFKA_CONNECT_URL}/{CONNECTOR_NAME}\")\n",
    "print(resp.content)\n",
    "if resp.status_code == 200:\n",
    "    logging.debug(\"connector already created skipping recreation\")\n",
    "    \n"
   ]
  },
  {
   "cell_type": "code",
   "execution_count": 10,
   "metadata": {},
   "outputs": [
    {
     "name": "stdout",
     "output_type": "stream",
     "text": [
      "{'previewLimit': 50, 'server': '127.0.0.1', 'port': 5432, 'driver': 'PostgreSQL', 'name': 'kafka', 'database': 'cta', 'username': 'cta_admin', 'password': 'chicago'}\n",
      "b'{\"name\":\"stations\",\"config\":{\"connector.class\":\"io.confluent.connect.jdbc.JdbcSourceConnector\",\"key.converter\":\"org.apache.kafka.connect.json.JsonConverter\",\"key.converter.schemas.enable\":\"false\",\"value.converter\":\"org.apache.kafka.connect.json.JsonConverter\",\"value.converter.schemas.enable\":\"false\",\"batch.max.rows\":\"500\",\"connection.url\":\"jdbc:postgresql://127.0.0.1:5432/cta\",\"connection.user\":\"cta_admin\",\"connection.password\":\"chicago\",\"table.whitelist\":\"stations\",\"mode\":\"incrementing\",\"incrementing.column.name\":\"stop_id\",\"topic.prefix\":\"stations\",\"poll.interval.ms\":\"100\",\"name\":\"stations\"},\"tasks\":[],\"type\":\"source\"}'\n"
     ]
    }
   ],
   "source": [
    "\n",
    "# TODO: Complete the Kafka Connect Config below.\n",
    "# Directions: Use the JDBC Source Connector to connect to Postgres. Load the `stations` table\n",
    "# using incrementing mode, with `stop_id` as the incrementing column name.\n",
    "# Make sure to think about what an appropriate topic prefix would be, and how frequently Kafka\n",
    "# Connect should run this connector (hint: not very often!)\n",
    "\n",
    "# load the configs from vs settings\n",
    "config_settings = json.loads(open('../../.vscode/settings.json').read())[\"sqltools.connections\"][0]\n",
    "print(config_settings)\n",
    "\n",
    "resp = requests.post(\n",
    "    KAFKA_CONNECT_URL,\n",
    "    headers={\"Content-Type\": \"application/json\"},\n",
    "    data=json.dumps({\n",
    "        \"name\": CONNECTOR_NAME,\n",
    "        \"config\": {\n",
    "            \"connector.class\": \"io.confluent.connect.jdbc.JdbcSourceConnector\",\n",
    "            \"key.converter\": \"org.apache.kafka.connect.json.JsonConverter\",\n",
    "            \"key.converter.schemas.enable\": \"false\",\n",
    "            \"value.converter\": \"org.apache.kafka.connect.json.JsonConverter\",\n",
    "            \"value.converter.schemas.enable\": \"false\",\n",
    "            \"batch.max.rows\": \"500\",\n",
    "            \"connection.url\": \"jdbc:postgresql://host.docker.internal:5432/cta\",\n",
    "            \"connection.user\": config_settings[\"username\"],\n",
    "            \"connection.password\": config_settings[\"password\"],\n",
    "            \"table.whitelist\": \"stations\",\n",
    "            \"mode\": \"incrementing\",\n",
    "            \"incrementing.column.name\": \"stop_id\",\n",
    "            \"topic.prefix\": \"stations\",\n",
    "            \"poll.interval.ms\": \"100\",\n",
    "        }\n",
    "    }),\n",
    ")\n",
    "\n",
    "## Ensure a healthy response was given\n",
    "print(resp.content)\n",
    "resp.raise_for_status()\n",
    "logging.debug(\"connector created successfully\")\n",
    "\n",
    "#confluent-hub install confluentinc/kafka-connect-jdbc:10.7.1\n",
    "#confluent-hub install confluentinc/kafka-connect-jdbc:latest\n"
   ]
  },
  {
   "cell_type": "code",
   "execution_count": null,
   "metadata": {},
   "outputs": [],
   "source": []
  }
 ],
 "metadata": {
  "kernelspec": {
   "display_name": ".venv",
   "language": "python",
   "name": "python3"
  },
  "language_info": {
   "codemirror_mode": {
    "name": "ipython",
    "version": 3
   },
   "file_extension": ".py",
   "mimetype": "text/x-python",
   "name": "python",
   "nbconvert_exporter": "python",
   "pygments_lexer": "ipython3",
   "version": "3.11.3"
  },
  "orig_nbformat": 4
 },
 "nbformat": 4,
 "nbformat_minor": 2
}
